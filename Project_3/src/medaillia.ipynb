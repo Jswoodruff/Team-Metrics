{
 "cells": [
  {
   "cell_type": "code",
   "execution_count": 43,
   "metadata": {},
   "outputs": [],
   "source": [
    "import pandas as pd\n",
    "import numpy as np\n",
    "import os \n",
    "from pathlib import Path\n",
    "import warnings\n",
    "import matplotlib.pyplot as plt\n",
    "\n",
    "warnings.filterwarnings(\"ignore\")"
   ]
  },
  {
   "cell_type": "code",
   "execution_count": 44,
   "metadata": {},
   "outputs": [],
   "source": [
    "\n",
    "# filepath = os.path.join(Path(__file__).parents[1], file)\n",
    "# df = pd.read_excel(\n",
    "#        filepath, \n",
    "#         skiprows=2,\n",
    "#         header=0)\n",
    "\n",
    "# df = pd.read_excel(\n",
    "#     r'C:\\Users\\unspo\\OneDrive\\Desktop\\Work Folder\\Project_3\\data\\TechOps_Responses_20220903_092431.xlsx',\n",
    "#     skiprows=2,\n",
    "#     header=0)\n",
    "# df_master = pd.read_excel(\n",
    "#     r'C:\\Users\\unspo\\OneDrive\\Desktop\\Work Folder\\Project_3\\data\\SBI SMART Report MTD 7.22 to 8.13.22 Team (1).xlsx',\n",
    "#     sheet_name=-1)\n",
    "\n",
    "\n",
    "# df = os.path.join(\n",
    "#     Path(__file__).parents[1],\n",
    "#     'data\\\\TechOps_Responses_20220903_092431.xlsx',\n",
    "#     skiprows=2,\n",
    "#     header=0)"
   ]
  },
  {
   "cell_type": "code",
   "execution_count": 45,
   "metadata": {},
   "outputs": [],
   "source": [
    "# filepath = os.path.join(Path(__file__).parents[1], 'data\\TechOps_Responses_20220903_092431.xlsx')\n",
    "#  raffle = pd.read_excel(\n",
    "#        filepath, \n",
    "#         skiprows=2,\n",
    "#         header=0)\n",
    "df= pd.read_excel(r'C:\\Users\\unspo\\OneDrive\\Desktop\\Work Folder\\Project_3\\data\\TechOps_Responses_20220903_092431.xlsx', skiprows=2, header = 0 )\n",
    "df_master= pd.read_excel(r'C:\\Users\\unspo\\OneDrive\\Desktop\\Work Folder\\Project_3\\data\\SBI SMART Report MTD 7.22 to 8.13.22 Team (1).xlsx', sheet_name= -1)"
   ]
  },
  {
   "cell_type": "code",
   "execution_count": 46,
   "metadata": {},
   "outputs": [],
   "source": [
    "nps = df[['Tech ID', 'SMS tNPS','Reason for score']]\n",
    "master = df_master[[\"Tech ID\", \"Last Name, First Name\", \"Company\"]]\n",
    "# Columns to keep just dont know what order yet\n",
    "#Reason for Score , Issue Resolved , Tech ID , SMS tNPS , Employee"
   ]
  },
  {
   "cell_type": "code",
   "execution_count": 47,
   "metadata": {},
   "outputs": [],
   "source": [
    "d = nps.merge(master, how=\"left\", on=\"Tech ID\")"
   ]
  },
  {
   "cell_type": "code",
   "execution_count": 48,
   "metadata": {},
   "outputs": [],
   "source": [
    "d['First Name'] = d[\"Last Name, First Name\"].str.split(\n",
    "        ',', expand=True)[1]\n",
    "d['Last Name'] = d[\"Last Name, First Name\"].str.split(\n",
    "        ',', expand=True)[0]\n",
    "d['Tech Name'] = d['First Name'] + \\\n",
    "        ' ' + d['Last Name']"
   ]
  },
  {
   "cell_type": "code",
   "execution_count": 49,
   "metadata": {},
   "outputs": [],
   "source": [
    "d.drop(columns = ['Last Name, First Name', 'First Name', 'Last Name'], inplace= True)"
   ]
  },
  {
   "cell_type": "code",
   "execution_count": 50,
   "metadata": {},
   "outputs": [],
   "source": [
    "d = d[['Tech ID', 'Tech Name', 'Company', 'SMS tNPS', 'Reason for score']]"
   ]
  },
  {
   "cell_type": "code",
   "execution_count": 51,
   "metadata": {},
   "outputs": [],
   "source": [
    "nps_full = d.fillna(\"No Reply\")"
   ]
  },
  {
   "cell_type": "code",
   "execution_count": 52,
   "metadata": {},
   "outputs": [
    {
     "data": {
      "text/html": [
       "<div>\n",
       "<style scoped>\n",
       "    .dataframe tbody tr th:only-of-type {\n",
       "        vertical-align: middle;\n",
       "    }\n",
       "\n",
       "    .dataframe tbody tr th {\n",
       "        vertical-align: top;\n",
       "    }\n",
       "\n",
       "    .dataframe thead th {\n",
       "        text-align: right;\n",
       "    }\n",
       "</style>\n",
       "<table border=\"1\" class=\"dataframe\">\n",
       "  <thead>\n",
       "    <tr style=\"text-align: right;\">\n",
       "      <th></th>\n",
       "      <th>Tech ID</th>\n",
       "      <th>Tech Name</th>\n",
       "      <th>Company</th>\n",
       "      <th>SMS tNPS</th>\n",
       "      <th>Reason for score</th>\n",
       "    </tr>\n",
       "  </thead>\n",
       "  <tbody>\n",
       "    <tr>\n",
       "      <th>0</th>\n",
       "      <td>8350</td>\n",
       "      <td>LEONID MURA</td>\n",
       "      <td>KOSCOM</td>\n",
       "      <td>10</td>\n",
       "      <td>very knowledge technician. patient and skilled...</td>\n",
       "    </tr>\n",
       "    <tr>\n",
       "      <th>1</th>\n",
       "      <td>8311</td>\n",
       "      <td>JONATHON LICHTE</td>\n",
       "      <td>SBI</td>\n",
       "      <td>10</td>\n",
       "      <td>No Reply</td>\n",
       "    </tr>\n",
       "    <tr>\n",
       "      <th>2</th>\n",
       "      <td>8345</td>\n",
       "      <td>MIHAI CABA</td>\n",
       "      <td>BEON</td>\n",
       "      <td>10</td>\n",
       "      <td>No Reply</td>\n",
       "    </tr>\n",
       "    <tr>\n",
       "      <th>3</th>\n",
       "      <td>8464</td>\n",
       "      <td>OLEKSII ZARICHUK</td>\n",
       "      <td>BEON</td>\n",
       "      <td>10</td>\n",
       "      <td>the technician went far beyond the purpose of ...</td>\n",
       "    </tr>\n",
       "    <tr>\n",
       "      <th>4</th>\n",
       "      <td>8361</td>\n",
       "      <td>SERGII OTRYSHKO</td>\n",
       "      <td>KOSCOM</td>\n",
       "      <td>9</td>\n",
       "      <td>No Reply</td>\n",
       "    </tr>\n",
       "    <tr>\n",
       "      <th>...</th>\n",
       "      <td>...</td>\n",
       "      <td>...</td>\n",
       "      <td>...</td>\n",
       "      <td>...</td>\n",
       "      <td>...</td>\n",
       "    </tr>\n",
       "    <tr>\n",
       "      <th>801</th>\n",
       "      <td>8465</td>\n",
       "      <td>LURIE CIOBANU</td>\n",
       "      <td>BEON</td>\n",
       "      <td>10</td>\n",
       "      <td>knowledgeable and very nice. work looked very ...</td>\n",
       "    </tr>\n",
       "    <tr>\n",
       "      <th>802</th>\n",
       "      <td>8317</td>\n",
       "      <td>VLADIMIR NEKRASOV</td>\n",
       "      <td>UKR</td>\n",
       "      <td>8</td>\n",
       "      <td>No Reply</td>\n",
       "    </tr>\n",
       "    <tr>\n",
       "      <th>803</th>\n",
       "      <td>8380</td>\n",
       "      <td>PAVLO KYSLYI</td>\n",
       "      <td>KOSCOM</td>\n",
       "      <td>10</td>\n",
       "      <td>technician was on time, professional and got t...</td>\n",
       "    </tr>\n",
       "    <tr>\n",
       "      <th>804</th>\n",
       "      <td>8456</td>\n",
       "      <td>JASON KARPLYUK</td>\n",
       "      <td>UKR</td>\n",
       "      <td>10</td>\n",
       "      <td>technician was excellent</td>\n",
       "    </tr>\n",
       "    <tr>\n",
       "      <th>805</th>\n",
       "      <td>8438</td>\n",
       "      <td>KIRIL TURBIN</td>\n",
       "      <td>KOSCOM</td>\n",
       "      <td>10</td>\n",
       "      <td>karrell was a good worker. very knowledgeable ...</td>\n",
       "    </tr>\n",
       "  </tbody>\n",
       "</table>\n",
       "<p>806 rows × 5 columns</p>\n",
       "</div>"
      ],
      "text/plain": [
       "     Tech ID           Tech Name Company  SMS tNPS  \\\n",
       "0       8350         LEONID MURA  KOSCOM        10   \n",
       "1       8311     JONATHON LICHTE     SBI        10   \n",
       "2       8345          MIHAI CABA    BEON        10   \n",
       "3       8464    OLEKSII ZARICHUK    BEON        10   \n",
       "4       8361     SERGII OTRYSHKO  KOSCOM         9   \n",
       "..       ...                 ...     ...       ...   \n",
       "801     8465       LURIE CIOBANU    BEON        10   \n",
       "802     8317   VLADIMIR NEKRASOV     UKR         8   \n",
       "803     8380        PAVLO KYSLYI  KOSCOM        10   \n",
       "804     8456      JASON KARPLYUK     UKR        10   \n",
       "805     8438        KIRIL TURBIN  KOSCOM        10   \n",
       "\n",
       "                                      Reason for score  \n",
       "0    very knowledge technician. patient and skilled...  \n",
       "1                                             No Reply  \n",
       "2                                             No Reply  \n",
       "3    the technician went far beyond the purpose of ...  \n",
       "4                                             No Reply  \n",
       "..                                                 ...  \n",
       "801  knowledgeable and very nice. work looked very ...  \n",
       "802                                           No Reply  \n",
       "803  technician was on time, professional and got t...  \n",
       "804                           technician was excellent  \n",
       "805  karrell was a good worker. very knowledgeable ...  \n",
       "\n",
       "[806 rows x 5 columns]"
      ]
     },
     "execution_count": 52,
     "metadata": {},
     "output_type": "execute_result"
    }
   ],
   "source": [
    "nps_full"
   ]
  },
  {
   "cell_type": "code",
   "execution_count": 53,
   "metadata": {},
   "outputs": [],
   "source": [
    "kos_nps = nps_full[nps_full['Company'] == 'KOSCOM']\n",
    "sbi_nps = nps_full[nps_full['Company'] == 'SBI']\n",
    "beon_nps = nps_full[nps_full['Company'] == 'BEON']\n",
    "ukr_nps = nps_full[nps_full['Company'] == 'UKR']"
   ]
  },
  {
   "cell_type": "code",
   "execution_count": 54,
   "metadata": {},
   "outputs": [],
   "source": [
    "# connect to sql"
   ]
  },
  {
   "cell_type": "code",
   "execution_count": 55,
   "metadata": {},
   "outputs": [],
   "source": [
    "kos_score = 0\n",
    "\n",
    "for score in kos_nps['SMS tNPS']:\n",
    "    if score >= 9:\n",
    "        kos_score += 1\n",
    "    elif score <= 6:\n",
    "        kos_score -= 1\n",
    "\n",
    "kos_per = round(((kos_score)/(len(kos_nps['SMS tNPS'])))*100, 2)"
   ]
  },
  {
   "cell_type": "code",
   "execution_count": 56,
   "metadata": {},
   "outputs": [
    {
     "data": {
      "text/plain": [
       "87.1"
      ]
     },
     "execution_count": 56,
     "metadata": {},
     "output_type": "execute_result"
    }
   ],
   "source": [
    "kos_per"
   ]
  },
  {
   "cell_type": "code",
   "execution_count": 57,
   "metadata": {},
   "outputs": [
    {
     "data": {
      "text/plain": [
       "496"
      ]
     },
     "execution_count": 57,
     "metadata": {},
     "output_type": "execute_result"
    }
   ],
   "source": [
    "len(kos_nps['SMS tNPS'])"
   ]
  },
  {
   "cell_type": "code",
   "execution_count": 58,
   "metadata": {},
   "outputs": [
    {
     "data": {
      "text/plain": [
       "87.1"
      ]
     },
     "execution_count": 58,
     "metadata": {},
     "output_type": "execute_result"
    }
   ],
   "source": [
    "kos_per"
   ]
  },
  {
   "cell_type": "code",
   "execution_count": 59,
   "metadata": {},
   "outputs": [],
   "source": [
    "def per_score(df):\n",
    "    num_score = 0\n",
    "\n",
    "    for score in df['SMS tNPS']:\n",
    "        if score >= 9:\n",
    "            num_score += 1\n",
    "        elif score <= 6:\n",
    "            num_score -= 1\n",
    "\n",
    "    return round(((num_score)/(len(df['SMS tNPS'])))*100, 2)\n"
   ]
  },
  {
   "cell_type": "code",
   "execution_count": null,
   "metadata": {},
   "outputs": [],
   "source": [
    "bad_nps = "
   ]
  },
  {
   "cell_type": "code",
   "execution_count": 28,
   "metadata": {},
   "outputs": [],
   "source": [
    "import plotly.graph_objects as go\n",
    "from plotly.subplots import make_subplots\n",
    "\n",
    "labels = ['bad nps', 'good nps']\n",
    "values = [f'{round(100- per_score(kos_nps), 2)}', f'{per_score(kos_nps)}']\n",
    "fig = go.Figure(data=[go.Pie(labels=labels, values=values, hole=.9)])\n",
    "fig.show()"
   ]
  },
  {
   "cell_type": "code",
   "execution_count": 69,
   "metadata": {},
   "outputs": [
    {
     "data": {
      "text/plain": [
       "'100-87.1'"
      ]
     },
     "execution_count": 69,
     "metadata": {},
     "output_type": "execute_result"
    }
   ],
   "source": [
    "f'{100}-{per_score(kos_nps)}'"
   ]
  },
  {
   "cell_type": "code",
   "execution_count": 71,
   "metadata": {},
   "outputs": [
    {
     "data": {
      "text/plain": [
       "'12.9'"
      ]
     },
     "execution_count": 71,
     "metadata": {},
     "output_type": "execute_result"
    }
   ],
   "source": [
    "f'{round(100- per_score(kos_nps), 2)}'"
   ]
  },
  {
   "cell_type": "markdown",
   "metadata": {},
   "source": [
    "Medallia return is number of promoters, detractors and passives with their tech ID. \n"
   ]
  }
 ],
 "metadata": {
  "kernelspec": {
   "display_name": "Python 3.10.5 64-bit",
   "language": "python",
   "name": "python3"
  },
  "language_info": {
   "codemirror_mode": {
    "name": "ipython",
    "version": 3
   },
   "file_extension": ".py",
   "mimetype": "text/x-python",
   "name": "python",
   "nbconvert_exporter": "python",
   "pygments_lexer": "ipython3",
   "version": "3.10.5"
  },
  "orig_nbformat": 4,
  "vscode": {
   "interpreter": {
    "hash": "38895e77673a7e948bb9c5342407363dbe610b1afa94a537b3d3ccdc4a26a338"
   }
  }
 },
 "nbformat": 4,
 "nbformat_minor": 2
}
